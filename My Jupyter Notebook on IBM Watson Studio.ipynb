{
    "cells": [
        {
            "metadata": {
                "collapsed": true
            },
            "cell_type": "markdown",
            "source": "# My Jupyter Notebook on IBM Watson Studio"
        },
        {
            "metadata": {},
            "cell_type": "markdown",
            "source": "**CANBERK ARICI**\n\nComputer Engineering Student"
        },
        {
            "metadata": {},
            "cell_type": "markdown",
            "source": "*I am interested in data science because manipulating data is like dancing to me.I want to share my enjoy with people with showing them different views of data.*"
        },
        {
            "metadata": {},
            "cell_type": "markdown",
            "source": "### The below code will execute divison of two numbers"
        },
        {
            "metadata": {},
            "cell_type": "code",
            "source": "12 / 4",
            "execution_count": 2,
            "outputs": [
                {
                    "output_type": "execute_result",
                    "execution_count": 2,
                    "data": {
                        "text/plain": "3.0"
                    },
                    "metadata": {}
                }
            ]
        },
        {
            "metadata": {},
            "cell_type": "markdown",
            "source": "### Horizontal Rule\n"
        },
        {
            "metadata": {},
            "cell_type": "markdown",
            "source": "***\n---"
        },
        {
            "metadata": {},
            "cell_type": "markdown",
            "source": "### Machu Pichu is fascinating"
        },
        {
            "metadata": {},
            "cell_type": "markdown",
            "source": "![alt text](https://i2.milimaj.com/i/milliyet/75/750x0/5da807d15542811e04a94963 \"Machu Pichu\")"
        },
        {
            "metadata": {},
            "cell_type": "markdown",
            "source": "### Python Syntax Highlighting"
        },
        {
            "metadata": {},
            "cell_type": "code",
            "source": "''' s = 4'''",
            "execution_count": 12,
            "outputs": [
                {
                    "output_type": "execute_result",
                    "execution_count": 12,
                    "data": {
                        "text/plain": "' s = 4'"
                    },
                    "metadata": {}
                }
            ]
        },
        {
            "metadata": {},
            "cell_type": "markdown",
            "source": "### My Points to Day's Parts\n| Day          | Morning | Night |\n| -------------|:-------:| -----:|\n| A Normal Day |    3    |   5   |"
        }
    ],
    "metadata": {
        "kernelspec": {
            "name": "python3",
            "display_name": "Python 3.6",
            "language": "python"
        },
        "language_info": {
            "name": "python",
            "version": "3.6.9",
            "mimetype": "text/x-python",
            "codemirror_mode": {
                "name": "ipython",
                "version": 3
            },
            "pygments_lexer": "ipython3",
            "nbconvert_exporter": "python",
            "file_extension": ".py"
        }
    },
    "nbformat": 4,
    "nbformat_minor": 1
}